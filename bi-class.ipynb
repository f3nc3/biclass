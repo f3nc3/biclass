{
  "nbformat": 4,
  "nbformat_minor": 0,
  "metadata": {
    "colab": {
      "provenance": []
    },
    "kernelspec": {
      "name": "python3",
      "display_name": "Python 3"
    },
    "language_info": {
      "name": "python"
    }
  },
  "cells": [
    {
      "cell_type": "code",
      "source": [
        "import numpy as np\n",
        "\n",
        "def sigmoid(x):\n",
        "    return 1/ (1+np.exp(-x))\n",
        "\n",
        "def sigmoid_derivative(x):\n",
        "    return x*(1-x)\n",
        "\n",
        "def mean_square_error_loss(y_true,y_pred):\n",
        "  return np.mean((y_true - y_pred)**2) # Use subtraction for MSE\n",
        "\n",
        "input = np.array([[0,0],[0,1],[1,0],[1,1]]) # Correct the input array format\n",
        "output = np.array([[0],[1],[1],[0]]) # Correct the output array format\n",
        "\n",
        "input_size = 2\n",
        "hidden_size = 2\n",
        "output_size = 1\n",
        "\n",
        "weights_input_hidden = np.random.rand(input_size,hidden_size)\n",
        "bias_hidden = np.random.rand(hidden_size)\n",
        "weights_hidden_output = np.random.randn(hidden_size,output_size)\n",
        "bias_output = np.random.rand(output_size)\n",
        "\n",
        "learning_rate = 0.1\n",
        "epochs = 20000\n",
        "\n",
        "for epoch in range(epochs):\n",
        "  hidden_input = np.dot(input,weights_input_hidden)+bias_hidden\n",
        "  hidden_output = sigmoid(hidden_input)\n",
        "\n",
        "  final_input = np.dot(hidden_output,weights_hidden_output)+bias_output\n",
        "  final_output = sigmoid(final_input)\n",
        "\n",
        "  loss = mean_square_error_loss(output,final_output)\n",
        "\n",
        "  error_output = final_output - output # Fix variable name 'outputs'\n",
        "  gradient_output = error_output*sigmoid_derivative(final_output)\n",
        "\n",
        "  error_hidden = np.dot(gradient_output,weights_hidden_output.T)\n",
        "  gradient_hidden = error_hidden*sigmoid_derivative(hidden_output)\n",
        "\n",
        "  weights_hidden_output -= learning_rate*np.dot(hidden_output.T,gradient_output)\n",
        "  bias_output -= learning_rate*np.sum(gradient_output,axis=0)\n",
        "  weights_input_hidden -= learning_rate*np.dot(input.T,gradient_hidden)\n",
        "  bias_hidden -= learning_rate*np.sum(gradient_hidden,axis=0)\n",
        "\n",
        "  if (epoch + 1)%2000 == 0: # Correct indentation\n",
        "    print(f\"Epoch:{epoch + 1},loss:{loss:.6f}\")\n",
        "\n",
        "results = [] # Fix variable name 'result'\n",
        "for input_pair in input: # Fix variable name 'inputs', iterate over 'input'\n",
        "  hidden_input = np.dot(input_pair,weights_input_hidden)+bias_hidden\n",
        "  hidden_output = sigmoid(hidden_input)\n",
        "  final_input = np.dot(hidden_output,weights_hidden_output)+bias_output\n",
        "  final_output = sigmoid(final_input)\n",
        "  results.append((input_pair,np.round(final_output[0],2))) # Append a tuple\n",
        "print(results)"
      ],
      "metadata": {
        "colab": {
          "base_uri": "https://localhost:8080/"
        },
        "id": "4sv5AwjqtZ3m",
        "outputId": "5df91b04-b404-4b4b-9704-b656c9160758"
      },
      "execution_count": 14,
      "outputs": [
        {
          "output_type": "stream",
          "name": "stdout",
          "text": [
            "Epoch:2000,loss:0.212718\n",
            "Epoch:4000,loss:0.139954\n",
            "Epoch:6000,loss:0.131482\n",
            "Epoch:8000,loss:0.128995\n",
            "Epoch:10000,loss:0.127852\n",
            "Epoch:12000,loss:0.127205\n",
            "Epoch:14000,loss:0.126791\n",
            "Epoch:16000,loss:0.126505\n",
            "Epoch:18000,loss:0.126295\n",
            "Epoch:20000,loss:0.126136\n",
            "[(array([0, 0]), 0.03), (array([0, 1]), 0.97), (array([1, 0]), 0.5), (array([1, 1]), 0.5)]\n"
          ]
        }
      ]
    },
    {
      "cell_type": "code",
      "source": [],
      "metadata": {
        "id": "WttBnY3TvtYQ"
      },
      "execution_count": 12,
      "outputs": []
    },
    {
      "cell_type": "code",
      "source": [],
      "metadata": {
        "id": "gxGKQdVWvtzj"
      },
      "execution_count": 12,
      "outputs": []
    }
  ]
}